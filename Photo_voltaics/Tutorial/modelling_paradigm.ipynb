{
 "cells": [
  {
   "cell_type": "code",
   "execution_count": 1,
   "id": "656f0511-97f8-4145-8f64-94ac273c0cf9",
   "metadata": {},
   "outputs": [],
   "source": [
    "import pvlib \n",
    "import pandas as pd\n",
    "import matplotlib.pyplot as plt\n",
    "\n"
   ]
  },
  {
   "cell_type": "code",
   "execution_count": 2,
   "id": "b8beb770-2b22-4f37-9523-24f1cf86be7f",
   "metadata": {},
   "outputs": [],
   "source": [
    "\n",
    "# latitudes, longitude, name, altitude, timezone\n",
    "coordinates = [(32.2, -111.0, 'Tucson', 700, 'Etc/GMT+7'),\n",
    "               (35.1, -106.6, 'Albuquerque', 1500, 'Etc/GMT+7'),\n",
    "              (37.8, -122.4, 'San Francisco', 10, 'Etc/GMT+8'),\n",
    "              (52.5, 13.4, 'Berlin', 34, 'Etc/GMT-1'),]"
   ]
  },
  {
   "cell_type": "code",
   "execution_count": 8,
   "id": "7daf8be5-a969-4ecb-a789-b47d80f72387",
   "metadata": {},
   "outputs": [],
   "source": [
    "#get the module and inverter specifications from SAM\n",
    "\n",
    "sandia_modules = pvlib.pvsystem.retrieve_sam('SandiaMod')\n",
    "sapm_inverters = pvlib.pvsystem.retrieve_sam('cecinverter')\n",
    "module = sandia_modules['Canadian_Solar_CS5P_220M___2009_']\n",
    "inverter = sapm_inverters['ABB__MICRO_0_25_I_OUTD_US_208__208V_']\n",
    "temperature_model_parameters = pvlib.temperature.TEMPERATURE_MODEL_PARAMETERS['sapm']['open_rack_glass_glass']\n"
   ]
  },
  {
   "cell_type": "code",
   "execution_count": 9,
   "id": "4ddca1b0-d88d-40dc-b39b-9ef94fd3f202",
   "metadata": {},
   "outputs": [],
   "source": [
    "##retrieving meteorological data for the simulation, using iotools\n",
    "\n",
    "tmys = []\n",
    "\n",
    "for location in coordinates:\n",
    "    latitude, longitude, name, altitude, timezone = location \n",
    "    weather = pvlib.iotools.get_pvgis_tmy(latitude, longitude, map_variables = True)[0]\n",
    "    weather.index.name = \"utc_time\"\n",
    "    tmys.append(weather)"
   ]
  },
  {
   "cell_type": "code",
   "execution_count": 13,
   "id": "b9da58a9-434d-4f38-9957-8c7f2f7c5e45",
   "metadata": {},
   "outputs": [],
   "source": [
    "## procedural \n",
    "\n",
    "system = {'module': module, 'inverter': inverter, 'surface_azimuth': 180}\n",
    "\n",
    "energies = {}\n",
    "\n",
    "for location, weather in zip(coordinates, tmys):\n",
    "    latitude, longitude, name, altitude, timezone = location \n",
    "    system['surface_tilt'] = latitude\n",
    "    solpos = pvlib.solarposition.get_solarposition(\n",
    "    time = weather.index,\n",
    "    latitude = latitude,\n",
    "    longitude = longitude,\n",
    "    altitude = altitude,\n",
    "    temperature = weather[\"temp_air\"],\n",
    "    pressure = pvlib.atmosphere.alt2pres(altitude),\n",
    "    )\n",
    "    dni_extra = pvlib.irradiance.get_extra_radiation(weather.index)\n",
    "    airmass = pvlib.atmosphere.get_relative_airmass(solpos['apparent_zenith'])\n",
    "    pressure = pvlib.atmosphere.alt2pres(altitude)\n",
    "    am_abs = pvlib.atmosphere.get_absolute_airmass(airmass, pressure)\n",
    "    aoi = pvlib.irradiance.aoi(\n",
    "    system['surface_tilt'],\n",
    "    system['surface_azimuth'],\n",
    "    solpos[\"apparent_zenith\"],\n",
    "    solpos[\"azimuth\"],\n",
    "    )\n",
    "    \n",
    "    total_irradiance = pvlib.irradiance.get_total_irradiance(\n",
    "    system['surface_tilt'],\n",
    "    system['surface_azimuth'],\n",
    "    solpos['apparent_zenith'],\n",
    "    solpos['azimuth'],\n",
    "    weather['dni'],\n",
    "    weather['ghi'],\n",
    "    weather['dhi'],\n",
    "    dni_extra = dni_extra,\n",
    "    model='haydavies',\n",
    "    )\n",
    "    \n",
    "    cell_temperature = pvlib.temperature.sapm_cell(\n",
    "    total_irradiance['poa_global'],\n",
    "    weather[\"temp_air\"],\n",
    "    weather[\"wind_speed\"],\n",
    "    **temperature_model_parameters,\n",
    "    )\n",
    "    \n",
    "    effective_irradiance = pvlib.pvsystem.sapm_effective_irradiance(\n",
    "    total_irradiance['poa_direct'],\n",
    "    total_irradiance['poa_diffuse'],\n",
    "    am_abs,\n",
    "    aoi,\n",
    "    module,\n",
    "    )\n",
    "    \n",
    "    dc = pvlib.pvsystem.sapm(effective_irradiance, cell_temperature, module)\n",
    "    ac = pvlib.inverter.sandia(dc['v_mp'], dc['p_mp'], inverter)\n",
    "    annual_energy = ac.sum()\n",
    "    energies[name] = annual_energy\n",
    "    \n",
    "    "
   ]
  },
  {
   "cell_type": "code",
   "execution_count": 14,
   "id": "ff70e51a-03bf-4200-b84c-5d3905fd779f",
   "metadata": {},
   "outputs": [],
   "source": [
    "energies = pd.Series(energies)\n"
   ]
  },
  {
   "cell_type": "code",
   "execution_count": 15,
   "id": "7b3c8501-6c3c-45aa-8ca8-5ea9a64ba5fc",
   "metadata": {},
   "outputs": [
    {
     "name": "stdout",
     "output_type": "stream",
     "text": [
      "Tucson           435945.966478\n",
      "Albuquerque      449905.549470\n",
      "San Francisco    393749.297943\n",
      "Berlin           243230.744245\n",
      "dtype: float64\n"
     ]
    }
   ],
   "source": [
    "print(energies)"
   ]
  },
  {
   "cell_type": "code",
   "execution_count": 17,
   "id": "017d526f-617b-4a33-8157-adf124ec2126",
   "metadata": {},
   "outputs": [
    {
     "data": {
      "text/plain": [
       "Text(0, 0.5, 'Yearly energy yield (W hr)')"
      ]
     },
     "execution_count": 17,
     "metadata": {},
     "output_type": "execute_result"
    },
    {
     "data": {
      "image/png": "[encoded data removed]",
      "text/plain": [
       "<Figure size 432x288 with 1 Axes>"
      ]
     },
     "metadata": {
      "needs_background": "light"
     },
     "output_type": "display_data"
    }
   ],
   "source": [
    "energies.plot(kind='bar', rot=0)\n",
    "plt.ylabel('Yearly energy yield (W hr)')\n"
   ]
  },
  {
   "cell_type": "code",
   "execution_count": null,
   "id": "fbe9a2d2-4019-411f-9689-755644d5545f",
   "metadata": {},
   "outputs": [],
   "source": []
  }
 ],
 "metadata": {
  "kernelspec": {
   "display_name": "Python 3",
   "language": "python",
   "name": "python3"
  },
  "language_info": {
   "codemirror_mode": {
    "name": "ipython",
    "version": 3
   },
   "file_extension": ".py",
   "mimetype": "text/x-python",
   "name": "python",
   "nbconvert_exporter": "python",
   "pygments_lexer": "ipython3",
   "version": "3.8.8"
  }
 },
 "nbformat": 4,
 "nbformat_minor": 5
}
