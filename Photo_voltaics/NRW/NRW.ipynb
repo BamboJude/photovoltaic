{
 "cells": [
  {
   "cell_type": "code",
   "execution_count": 1,
   "id": "868048b7-5025-4666-8d9b-feffbebccfa3",
   "metadata": {},
   "outputs": [],
   "source": [
    "import pandas as pd\n",
    "import matplotlib.pyplot as plt\n",
    "import pvlib\n",
    "from pvlib.pvsystem import PVSystem, Array, FixedMount\n",
    "from pvlib.location import Location\n",
    "from pvlib.modelchain import ModelChain"
   ]
  },
  {
   "cell_type": "code",
   "execution_count": 2,
   "id": "6e0e0fbb-07cd-45d4-beb3-0309544872dc",
   "metadata": {},
   "outputs": [],
   "source": [
    "\n",
    "# latitudes, longitude, name, altitude, timezone\n",
    "coordinates = [(51.30,6.33, 'Kamp-Lintfort', 32,'Etc/GMT+2' ),\n",
    "              (51.26,6.46, 'Duisburg', 34, 'Etc/GMT+2'),\n",
    "              (51.27,6.38,'Moers', 32, 'Etc/GMT+2'),]"
   ]
  },
  {
   "cell_type": "code",
   "execution_count": 3,
   "id": "9ec2133d-6c80-48e0-ae0e-61f914854475",
   "metadata": {},
   "outputs": [],
   "source": [
    "#get the module and inverter specifications from SAM\n",
    "\n",
    "sandia_modules = pvlib.pvsystem.retrieve_sam('SandiaMod')\n",
    "sapm_inverters = pvlib.pvsystem.retrieve_sam('cecinverter')\n",
    "module = sandia_modules['Canadian_Solar_CS5P_220M___2009_']\n",
    "inverter = sapm_inverters['ABB__MICRO_0_25_I_OUTD_US_208__208V_']\n",
    "temperature_model_parameters = pvlib.temperature.TEMPERATURE_MODEL_PARAMETERS['sapm']['open_rack_glass_glass']\n"
   ]
  },
  {
   "cell_type": "code",
   "execution_count": 4,
   "id": "21051500-3dc9-41ba-b34c-268d33620cd0",
   "metadata": {},
   "outputs": [],
   "source": [
    "##retrieving meteorological data for the simulation, using iotools\n",
    "\n",
    "tmys = []\n",
    "\n",
    "for location in coordinates:\n",
    "    latitude, longitude, name, altitude, timezone = location \n",
    "    weather = pvlib.iotools.get_pvgis_tmy(latitude, longitude, map_variables = True)[0]\n",
    "    weather.index.name = \"utc_time\"\n",
    "    tmys.append(weather)"
   ]
  },
  {
   "cell_type": "code",
   "execution_count": 5,
   "id": "1530f05a-a22f-4f2c-a26e-9bfddc9c4cd1",
   "metadata": {},
   "outputs": [],
   "source": [
    "energies = {}"
   ]
  },
  {
   "cell_type": "code",
   "execution_count": 6,
   "id": "0eaf09e1-c200-4d46-8b56-74e70b3c8cb3",
   "metadata": {},
   "outputs": [],
   "source": [
    "for location, weather in zip(coordinates, tmys):\n",
    "    latitude, longitude, name, altitude, timezone = location\n",
    "    location = Location(\n",
    "    latitude,\n",
    "    longitude,\n",
    "    name = name, altitude = altitude,\n",
    "    tz = timezone,\n",
    "    )\n",
    "    mount = FixedMount(surface_tilt=latitude, surface_azimuth=180)\n",
    "    array = Array(\n",
    "    mount = mount,\n",
    "    module_parameters = module,\n",
    "    temperature_model_parameters = temperature_model_parameters,\n",
    "    )\n",
    "    \n",
    "    system = PVSystem(arrays=[array], inverter_parameters=inverter)\n",
    "    mc = ModelChain(system, location)\n",
    "    mc.run_model(weather)\n",
    "    annual_energy = mc.results.ac.sum()\n",
    "    energies[name] = annual_energy\n",
    "    "
   ]
  },
  {
   "cell_type": "code",
   "execution_count": 7,
   "id": "255acfb9-aaea-4d6f-81c6-562d202459d0",
   "metadata": {},
   "outputs": [],
   "source": [
    "energies = pd.Series(energies)"
   ]
  },
  {
   "cell_type": "code",
   "execution_count": 8,
   "id": "d7bbfa29-0b48-4637-bc29-392fd91f54d6",
   "metadata": {},
   "outputs": [
    {
     "name": "stdout",
     "output_type": "stream",
     "text": [
      "Kamp-Lintfort    258457.366571\n",
      "Duisburg         225415.025654\n",
      "Moers            233313.595637\n",
      "dtype: float64\n"
     ]
    }
   ],
   "source": [
    "print(energies)"
   ]
  },
  {
   "cell_type": "code",
   "execution_count": 9,
   "id": "91354899-e3d9-4a65-8122-b6e465604d10",
   "metadata": {},
   "outputs": [
    {
     "data": {
      "text/plain": [
       "Text(0, 0.5, 'Yearly energy yield (W hr)')"
      ]
     },
     "execution_count": 9,
     "metadata": {},
     "output_type": "execute_result"
    },
    {
     "data": {
      "image/png": "[encoded data removed]",
      "text/plain": [
       "<Figure size 432x288 with 1 Axes>"
      ]
     },
     "metadata": {
      "needs_background": "light"
     },
     "output_type": "display_data"
    }
   ],
   "source": [
    "energies.plot(kind='bar', rot=0)\n",
    "plt.ylabel('Yearly energy yield (W hr)')"
   ]
  },
  {
   "cell_type": "code",
   "execution_count": null,
   "id": "0a0fa1d8-99eb-44c7-b419-b8b97a1e63ae",
   "metadata": {},
   "outputs": [],
   "source": []
  }
 ],
 "metadata": {
  "kernelspec": {
   "display_name": "Python 3",
   "language": "python",
   "name": "python3"
  },
  "language_info": {
   "codemirror_mode": {
    "name": "ipython",
    "version": 3
   },
   "file_extension": ".py",
   "mimetype": "text/x-python",
   "name": "python",
   "nbconvert_exporter": "python",
   "pygments_lexer": "ipython3",
   "version": "3.8.8"
  }
 },
 "nbformat": 4,
 "nbformat_minor": 5
}
